{
 "cells": [
  {
   "cell_type": "markdown",
   "id": "13671ee2",
   "metadata": {},
   "source": [
    "# 10_Assignment_python"
   ]
  },
  {
   "cell_type": "code",
   "execution_count": null,
   "id": "7df221de",
   "metadata": {},
   "outputs": [],
   "source": [
    "1. What is the role of try and exception block?\n",
    "2. What is the syntax for a basic try-except block?\n",
    "3. What happens if an exception occurs inside a try block and there is no matching\n",
    "except block?\n",
    "4. What is the difference between using a bare except block and specifying a specific\n",
    "exception type?\n",
    "5. Can you have nested try-except blocks in Python? If yes, then give an example.\n",
    "6. Can we use multiple exception blocks, if yes then give an example.\n",
    "7. Write the reason due to which following errors are raised:\n",
    "a. EOFError\n",
    "b. FloatingPointError\n",
    "c. IndexError\n",
    "d. MemoryError\n",
    "e. OverflowError\n",
    "f. TabError\n",
    "g. ValueError\n",
    "8. Write code for the following given scenario and add try-exception block to it.\n",
    "a. Program to divide two numbers\n",
    "b. Program to convert a string to an integer\n",
    "c. Program to access an element in a list\n",
    "d. Program to handle a specific exception\n",
    "e. Program to handle any exception"
   ]
  },
  {
   "cell_type": "markdown",
   "id": "c1733447",
   "metadata": {},
   "source": [
    "# QUE(1)"
   ]
  },
  {
   "cell_type": "markdown",
   "id": "387c8877",
   "metadata": {},
   "source": [
    "1. What is the role of try and exception block?"
   ]
  },
  {
   "cell_type": "markdown",
   "id": "c7023a84",
   "metadata": {},
   "source": [
    "Solution :-\n",
    "    \n",
    "    try : try block is used for code \n",
    "        \n",
    "    exception : is used for if there may be an error than exception is used to handle a error"
   ]
  },
  {
   "cell_type": "markdown",
   "id": "0a3b83c7",
   "metadata": {},
   "source": [
    "# QUE(2)"
   ]
  },
  {
   "cell_type": "markdown",
   "id": "71b378c2",
   "metadata": {},
   "source": [
    "2. What is the syntax for a basic try-except block?"
   ]
  },
  {
   "cell_type": "code",
   "execution_count": 7,
   "id": "2a809a59",
   "metadata": {},
   "outputs": [
    {
     "name": "stdout",
     "output_type": "stream",
     "text": [
      "enter any no here : 56\n",
      "enter any no here : 0\n",
      "there may be an error division by zero\n"
     ]
    }
   ],
   "source": [
    "# this is a syntax for try - except block where all the code are in try block and except block is used for error may occurs at try block or handle a error of try block \n",
    "\n",
    "try:\n",
    "    a = int(input('enter any no here : '))\n",
    "    b = int(input('enter any no here : '))\n",
    "    c = a/b\n",
    "    print(c)\n",
    "except ZeroDivisionError as z :\n",
    "    print('there may be an error',z)\n",
    "except ValueError as v:\n",
    "    print(v)"
   ]
  },
  {
   "cell_type": "markdown",
   "id": "63666975",
   "metadata": {},
   "source": [
    "#  QUE(3)"
   ]
  },
  {
   "cell_type": "markdown",
   "id": "35343b1e",
   "metadata": {},
   "source": [
    "3. What happens if an exception occurs inside a try block and there is no matching except block?\n"
   ]
  },
  {
   "cell_type": "code",
   "execution_count": 5,
   "id": "795b6bd0",
   "metadata": {},
   "outputs": [
    {
     "name": "stdout",
     "output_type": "stream",
     "text": [
      "enter a file name here : dev\n",
      "[Errno 2] No such file or directory: 'dev.text' file not found error\n"
     ]
    }
   ],
   "source": [
    "# when we used nested try block then it will automatically come out of the nested block and gave the desire out \n",
    "\n",
    "try:\n",
    "    file_name = input('enter a file name here : ')\n",
    "    with open(file_name+'.text') as f:\n",
    "        try:\n",
    "            f.read()\n",
    "        except FileExistsError as e: #--------------if error are not found here than it automatically come out of the nested block\n",
    "            print(e, \"file not exit error\")\n",
    "except FileNotFoundError as x:\n",
    "    print(x, \"file not found error\")\n",
    "            "
   ]
  },
  {
   "cell_type": "markdown",
   "id": "a4e0bdbc",
   "metadata": {},
   "source": [
    "# QUE (4)"
   ]
  },
  {
   "cell_type": "markdown",
   "id": "28d8ee3b",
   "metadata": {},
   "source": [
    "4. What is the difference between using a bare except block and specifying a specific\n",
    "exception type?"
   ]
  },
  {
   "cell_type": "code",
   "execution_count": 5,
   "id": "386d6009",
   "metadata": {},
   "outputs": [
    {
     "name": "stdout",
     "output_type": "stream",
     "text": [
      "enter any no here : 8\n",
      "enter any no here : 0\n",
      "division by zero\n"
     ]
    }
   ],
   "source": [
    "try:\n",
    "    a = int(input(\"enter any no here : \"))\n",
    "    b = int(input(\"enter any no here : \"))\n",
    "    c = a/b\n",
    "    print(c)\n",
    "except Exception as e:\n",
    "    print(e)\n",
    "except :\n",
    "    print('there will be some error')"
   ]
  },
  {
   "cell_type": "markdown",
   "id": "65688be9",
   "metadata": {},
   "source": [
    "# QUE(5)"
   ]
  },
  {
   "cell_type": "markdown",
   "id": "2e9aea62",
   "metadata": {},
   "source": [
    "5. Can you have nested try-except blocks in Python? If yes, then give an example."
   ]
  },
  {
   "cell_type": "markdown",
   "id": "914644a9",
   "metadata": {},
   "source": [
    "solution :- yes we can use nested try and except block "
   ]
  },
  {
   "cell_type": "code",
   "execution_count": 56,
   "id": "afe5e23d",
   "metadata": {},
   "outputs": [
    {
     "name": "stdout",
     "output_type": "stream",
     "text": [
      "there is an error\n"
     ]
    }
   ],
   "source": [
    "# IndexError\n",
    "\n",
    "try:\n",
    "    l = [6,4,578,56,9,2]\n",
    "    l[1]\n",
    "    try:\n",
    "        t = (1,2,3,4,5,6)\n",
    "        t[20] = 'dev'\n",
    "        print(t)\n",
    "    except :\n",
    "        print('there is an error')\n",
    "except IndexError as i:\n",
    "    print(i , 'error')\n",
    "else:\n",
    "    ('this is final block if excception doesnt having any error')"
   ]
  },
  {
   "cell_type": "markdown",
   "id": "53e55ded",
   "metadata": {},
   "source": [
    "#  QUE(6)"
   ]
  },
  {
   "cell_type": "markdown",
   "id": "476f2dff",
   "metadata": {},
   "source": [
    "6. Can we use multiple exception blocks, if yes then give an example."
   ]
  },
  {
   "cell_type": "markdown",
   "id": "6e472757",
   "metadata": {},
   "source": [
    "solution :- yes we can have a multiple exceptional block "
   ]
  },
  {
   "cell_type": "code",
   "execution_count": 11,
   "id": "67dcb4f0",
   "metadata": {},
   "outputs": [
    {
     "name": "stdout",
     "output_type": "stream",
     "text": [
      "enter any no here : adfa\n",
      "invalid literal for int() with base 10: 'adfa' value error\n"
     ]
    }
   ],
   "source": [
    "try:\n",
    "    a = int(input(\"enter any no here : \"))\n",
    "    b = int(input(\"enter any no here : \"))\n",
    "    c = a/b\n",
    "    print(c)\n",
    "except ZeroDivisionError as z:\n",
    "    print(z,\"zerodivision error\")\n",
    "except ValueError as v :\n",
    "    print(v, \"value error\")\n",
    "except NameError as n:\n",
    "    print(n,\"name error\")\n",
    "except Exception as e:\n",
    "    print(e, \"error\")"
   ]
  },
  {
   "cell_type": "markdown",
   "id": "600d6b85",
   "metadata": {},
   "source": [
    "# QUE(7)"
   ]
  },
  {
   "cell_type": "markdown",
   "id": "c2599bdf",
   "metadata": {},
   "source": [
    "7. Write the reason due to which following errors are raised:\n",
    "\n",
    "a. EOFError\n",
    "\n",
    "b. FloatingPointError\n",
    "\n",
    "c. IndexError\n",
    "\n",
    "d. MemoryError\n",
    "\n",
    "e. OverflowError\n",
    "\n",
    "f. TabError\n",
    "\n",
    "g. ValueError"
   ]
  },
  {
   "cell_type": "markdown",
   "id": "87d50ea6",
   "metadata": {},
   "source": [
    "a. EOFError :- this End-of-Line Error is occurs when input user is not gave any input and reached at the end \n",
    "\n",
    "b. FloatingPointError\n",
    "\n",
    "c. IndexError : out of the index where range is out of the index \n",
    "\n",
    "d. MemoryError : is occurs when the interpreter has run out of memory to allocate to your Python program\n",
    "\n",
    "e. OverflowError : occurs when limit is exceed\n",
    "\n",
    "f. TabError : due to indentation error\n",
    "\n",
    "g. ValueError : occurs due to when we define a datatype and value is not gaving as define than it will through an value error"
   ]
  },
  {
   "cell_type": "markdown",
   "id": "03de74af",
   "metadata": {},
   "source": [
    "# QUE(8)"
   ]
  },
  {
   "cell_type": "markdown",
   "id": "6da1894b",
   "metadata": {},
   "source": [
    "8. Write code for the following given scenario and add try-exception block to it.\n",
    "\n",
    "a. Program to divide two numbers\n",
    "\n",
    "b. Program to convert a string to an integer\n",
    "\n",
    "c. Program to access an element in a list\n",
    "\n",
    "d. Program to handle a specific exception\n",
    "\n",
    "e. Program to handle any exception"
   ]
  },
  {
   "cell_type": "code",
   "execution_count": 33,
   "id": "4afe683a",
   "metadata": {},
   "outputs": [],
   "source": [
    "# a. Program to divide two numbers\n",
    "\n",
    "def divide(x,y):\n",
    "    try:\n",
    "        z = x/y\n",
    "        print(z)\n",
    "    except ZeroDivisionError as z:\n",
    "        print(z)"
   ]
  },
  {
   "cell_type": "code",
   "execution_count": 34,
   "id": "68b0cce6",
   "metadata": {},
   "outputs": [
    {
     "name": "stdout",
     "output_type": "stream",
     "text": [
      "division by zero\n"
     ]
    }
   ],
   "source": [
    "divide(5,0)"
   ]
  },
  {
   "cell_type": "code",
   "execution_count": 38,
   "id": "1e18b167",
   "metadata": {},
   "outputs": [],
   "source": [
    "# b. Program to convert a string to an integer\n",
    "\n",
    "def converter(typ):\n",
    "    try:\n",
    "        if typ == str:\n",
    "            print(int(typ)) \n",
    "    except ValueError as v:\n",
    "        print(v)"
   ]
  },
  {
   "cell_type": "code",
   "execution_count": 39,
   "id": "f3b13d00",
   "metadata": {},
   "outputs": [],
   "source": [
    "converter('dev')"
   ]
  },
  {
   "cell_type": "code",
   "execution_count": 51,
   "id": "377b575b",
   "metadata": {},
   "outputs": [],
   "source": [
    "# c. Program to access an element in a list\n",
    "\n",
    "l = [1,2,3,4,5,6,7,8,9]\n",
    "\n",
    "def func(mylist):\n",
    "    n = int(input(\"enter any value here\"))\n",
    "    try:\n",
    "        for i in mylist:\n",
    "            if i == n:\n",
    "                print(f\"value {n} is present at index no {i}\")\n",
    "                break\n",
    "            else:\n",
    "                print(f\"value {n} not present at index {i}\")\n",
    "    except Exception as e:\n",
    "        print(e)"
   ]
  },
  {
   "cell_type": "code",
   "execution_count": 52,
   "id": "9e8a535d",
   "metadata": {},
   "outputs": [
    {
     "name": "stdout",
     "output_type": "stream",
     "text": [
      "enter any value here8\n",
      "value 8 not present at index 1\n",
      "value 8 not present at index 2\n",
      "value 8 not present at index 3\n",
      "value 8 not present at index 4\n",
      "value 8 not present at index 5\n",
      "value 8 not present at index 6\n",
      "value 8 not present at index 7\n",
      "value 8 is present at index no 8\n"
     ]
    }
   ],
   "source": [
    "func(l)"
   ]
  },
  {
   "cell_type": "code",
   "execution_count": 53,
   "id": "c966e17b",
   "metadata": {},
   "outputs": [],
   "source": [
    "# d Program to handle a specific exception\n",
    "\n",
    "# in this exception is handle by exception block "
   ]
  },
  {
   "cell_type": "code",
   "execution_count": 54,
   "id": "0173c633",
   "metadata": {},
   "outputs": [],
   "source": [
    "# e \n",
    "# by using the exception block we can handle all the error"
   ]
  },
  {
   "cell_type": "code",
   "execution_count": null,
   "id": "b7609075",
   "metadata": {},
   "outputs": [],
   "source": []
  }
 ],
 "metadata": {
  "kernelspec": {
   "display_name": "Python 3 (ipykernel)",
   "language": "python",
   "name": "python3"
  },
  "language_info": {
   "codemirror_mode": {
    "name": "ipython",
    "version": 3
   },
   "file_extension": ".py",
   "mimetype": "text/x-python",
   "name": "python",
   "nbconvert_exporter": "python",
   "pygments_lexer": "ipython3",
   "version": "3.9.12"
  }
 },
 "nbformat": 4,
 "nbformat_minor": 5
}
